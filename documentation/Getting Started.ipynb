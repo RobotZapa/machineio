{
 "cells": [
  {
   "cell_type": "markdown",
   "metadata": {
    "collapsed": true
   },
   "source": []
  },
  {
   "cell_type": "markdown",
   "metadata": {},
   "source": [
    "# What you need to know first.\n",
    "\n",
    "## Functors\n",
    "\n",
    "#### What is a functor?\n",
    "A functor is a class who's objects are meant to be called like a function.\n",
    "\n",
    "#### Why not just functions?\n",
    "Functions are great! Simple and effective. But having a entire library of functions with oddly specific names that require you to put in what pin you want to perfom the action every time gets tiresome and is hard to read. Also, if you change how a pin works you might have to change it a throughout your code.\n",
    "\n",
    "#### Why not just classes?\n",
    "Classes are good but end up getting complex and messy once the code gets too big. This gets extra bad in python because you might want to access members as well as functions for this or that."
   ]
  },
  {
   "cell_type": "code",
   "execution_count": 3,
   "metadata": {},
   "outputs": [
    {
     "name": "stdout",
     "output_type": "stream",
     "text": [
      "Amber is now sad\n",
      "Amber is now happy\n"
     ]
    }
   ],
   "source": [
    "class PersonMood:\n",
    "    def __init__(self, name):\n",
    "        self.name = name\n",
    "        \n",
    "    def __call__(self, mood):\n",
    "        print(f'{self.name} is now {mood}')\n",
    "\n",
    "\n",
    "functor = PersonMood('Amber')\n",
    "functor('sad')\n",
    "functor('happy')"
   ]
  },
  {
   "cell_type": "markdown",
   "metadata": {},
   "source": [
    "## Lambda (anonomous) functions\n",
    "A lambda function is simply an inline function.\n",
    "It returns the result of the right hand side of the colon, while the left is used to define the arguments"
   ]
  },
  {
   "cell_type": "code",
   "execution_count": null,
   "metadata": {},
   "outputs": [],
   "source": [
    "lambda_function = lambda arg1, arg2: arg1+arg2\n",
    "lambda_function(4, 6)"
   ]
  },
  {
   "cell_type": "markdown",
   "metadata": {},
   "source": [
    "## Single Pin Data\n",
    "Machines are controlled by simple eletrical signals many of these can be done with a single pin.\n",
    "\n",
    "#### Digital\n",
    "The pin can have voltage or not. This is quite effective for controlling transistors for providing power to subsystems.\n",
    "\n",
    "#### Analog\n",
    "The pin's voltage might be variable. To ajust speed or to indicate a battery level.\n",
    "\n",
    "#### PWM\n",
    "Pulse Width Modulation. This is what servo motors and linear actuators are controlled with. It also has many other uses. Duty-cycle is a simulated analog voltage by applying the full voltage a certain percentage of the time.\n",
    "Pulse Width Modulation is very broad and covers a large range of uses. PPM or Pulse Positon Modulation is the standard range of PWM for servos.\n"
   ]
  },
  {
   "cell_type": "markdown",
   "metadata": {},
   "source": [
    "## Multi-pin Data\n",
    "This is a work in progress. For my library it is not yet supported.\n",
    "\n",
    "#### UART\n",
    "\n",
    "#### I2C\n",
    "\n",
    "#### SPI\n",
    "\n",
    "#### USB"
   ]
  },
  {
   "cell_type": "markdown",
   "metadata": {},
   "source": [
    "# How MachineIO works\n",
    "MachineIO is a tool to help you create your own function library for interfacing with your hardware, exactly the way you want and nothing more.\n",
    "\n",
    "### Device\n",
    "You first create a device. Devices work with protocols MachineIO handles everything to translate your libarary to the proper device in the background. The device is a traditional object used simply as a parameter for the functors.\n"
   ]
  },
  {
   "cell_type": "code",
   "execution_count": null,
   "metadata": {},
   "outputs": [],
   "source": [
    "from machineio import *\n",
    "test_device = Device('test')\n",
    "print(test_device)"
   ]
  },
  {
   "cell_type": "markdown",
   "metadata": {},
   "source": [
    "### Pin\n",
    "This is the heart of machineio defining a pin is simple and readable.\n",
    "all pins need to have a device they are on, so it's the first argument.\n",
    "The second argument is the pin number, the hardware will have documention on what pin is what number.\n",
    "a Pin is an INPUT or an OUTPUT, these are flags in machineio for readability.\n",
    "a Pin type flags are given to specify the mode/role any modifications required will be passed in as keywords.\n",
    "the halt keyword argument is the stopped/safe of the pin.\n",
    "\n",
    "Pins have a lot more functionality, if you would like more see the docs."
   ]
  },
  {
   "cell_type": "code",
   "execution_count": null,
   "metadata": {},
   "outputs": [],
   "source": [
    "pin_functor = Pin(test_device, 1, OUTPUT, Servo(),\n",
    "                  halt=lambda self: self(0))\n",
    "\n",
    "input_pin = Pin(test_device, 2, INPUT, Analog(),\n",
    "                callback=lambda: print('Callback function'))\n",
    "\n",
    "advanced_pin = Pin(test_device, 3, OUTPUT, PWM(),\n",
    "                   halt=lambda self: self(0),\n",
    "                   limits=(0, 100),\n",
    "                   translate=lambda x: x*1.8)"
   ]
  },
  {
   "cell_type": "markdown",
   "metadata": {},
   "source": [
    "# Group\n",
    "You hardly ever have one pin that does everything you need to perform an action.\n",
    "This is where groups excell. They allow you to easly create groups of pins.\n",
    "Groups can be multi-dimentional. If they are, add transltions to isolate or modify for pins calls.\n",
    "You can add delays to certain pins in a group if some need to act before others. (This is an async fire and forget call)"
   ]
  },
  {
   "cell_type": "code",
   "execution_count": null,
   "metadata": {},
   "outputs": [],
   "source": [
    "x = Pin(test_device, 4, OUTPUT, Servo(), halt=lambda self: self(0))\n",
    "x = Pin(test_device, 5, OUTPUT, Servo(), halt=lambda self: self(0))\n",
    "\n",
    "planar = Group(2)\n",
    "\n",
    "planar.add(x, translate=lambda x, y: x)\n",
    "planar.add(y, translate=lambda x, y: y, delay=1.2)\n",
    "\n",
    "planar(2, 8)"
   ]
  },
  {
   "cell_type": "markdown",
   "metadata": {},
   "source": [
    "# Safety\n",
    "Groups and pins have halt keywords that use lambda functions to call themselfs with the pin or group as its own parameter to call it like so `lambda self: self(0)`\n",
    "when you create a pin or group it regsters itself to safety.\n",
    "If you call the machineio.kill() it will stop every Pin and totally ignore groups.\n",
    "If you call machineio.stop() it will stop all groups with a halt, and all pins not in a group.\n",
    "If you have nested groups the behavior is well defined but more complex, see documention.\n",
    "Any calls after this event will throw an exception until you reset the event with machineio.safety.proceed = True"
   ]
  },
  {
   "cell_type": "code",
   "execution_count": null,
   "metadata": {},
   "outputs": [],
   "source": [
    "mio.kill()\n",
    "mio.safety.proceed = True\n",
    "mio.stop()\n",
    "mio.safety.proceed = True"
   ]
  }
 ],
 "metadata": {
  "kernelspec": {
   "display_name": "Python 3",
   "language": "python",
   "name": "python3"
  },
  "language_info": {
   "codemirror_mode": {
    "name": "ipython",
    "version": 3
   },
   "file_extension": ".py",
   "mimetype": "text/x-python",
   "name": "python",
   "nbconvert_exporter": "python",
   "pygments_lexer": "ipython3",
   "version": "3.6.6"
  }
 },
 "nbformat": 4,
 "nbformat_minor": 1
}
